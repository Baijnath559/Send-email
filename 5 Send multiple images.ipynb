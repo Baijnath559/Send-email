{
 "cells": [
  {
   "cell_type": "markdown",
   "metadata": {},
   "source": [
    "# Send multiple images"
   ]
  },
  {
   "cell_type": "code",
   "execution_count": null,
   "metadata": {},
   "outputs": [],
   "source": [
    "import cv2\n",
    "import imghdr\n",
    "from email.message import EmailMessage\n",
    "import smtplib as s\n",
    "\n",
    "send_email = \"baijnath.k03022000@gmail.com\"\n",
    "pswrd = input(\"Enter your password: \")\n",
    "\n",
    "msg = EmailMessage()\n",
    "msg['To'] = \"baijnath.k3022000@gmail.com\"\n",
    "msg['Subject'] = 'Revision'\n",
    "msg['From'] = send_email\n",
    "msg.set_content(\"Hey , hello\")\n",
    "\n",
    "\n",
    "\n",
    "photos = [\"bean.jpg\",\"tweety.jpg\",\"mouse.jpg\"]\n",
    "\n",
    "for pic in photos:\n",
    "    \n",
    "    photo = open(pic,'rb')\n",
    "    file = photo.read()\n",
    "    file_type = imghdr.what(photo.name)\n",
    "    file_name = photo.name\n",
    "\n",
    "    msg.add_attachment(file, maintype = 'image', subtype = file_type, filename = file_name)\n",
    "\n",
    "server = s.SMTP_SSL('smtp.gmail.com', 465)\n",
    "\n",
    "server.login(send_email, pswrd)\n",
    "print(\"Login successful!!\")\n",
    "\n",
    "server.send_message(msg)\n",
    "print(\"Email has been sent successfully!!\")\n",
    "\n",
    "server.close()"
   ]
  },
  {
   "cell_type": "code",
   "execution_count": null,
   "metadata": {},
   "outputs": [],
   "source": []
  }
 ],
 "metadata": {
  "kernelspec": {
   "display_name": "Python 3",
   "language": "python",
   "name": "python3"
  },
  "language_info": {
   "codemirror_mode": {
    "name": "ipython",
    "version": 3
   },
   "file_extension": ".py",
   "mimetype": "text/x-python",
   "name": "python",
   "nbconvert_exporter": "python",
   "pygments_lexer": "ipython3",
   "version": "3.8.3"
  }
 },
 "nbformat": 4,
 "nbformat_minor": 4
}
