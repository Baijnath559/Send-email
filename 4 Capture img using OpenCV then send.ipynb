{
 "cells": [
  {
   "cell_type": "code",
   "execution_count": null,
   "metadata": {},
   "outputs": [],
   "source": [
    "import cv2\n",
    "import smtplib as s\n",
    "import imghdr\n",
    "from email.message import EmailMessage\n",
    "\n",
    "send_email = \"abc@gmail.com\"\n",
    "pswrd = input(\"Enter your password: \")\n",
    "\n",
    "cap = cv2.VideoCapture(0)\n",
    "\n",
    "ret, photo = cap.read()\n",
    "cv2.imshow(\"Selfi\", photo)\n",
    "cv2.imwrite(\"Selfi.jpg\",photo)\n",
    "cv2.waitKey()\n",
    "cv2.destroyAllWindows()\n",
    "cap.release()\n",
    "\n",
    "pic = open(\"Selfi.jpg\",'rb')\n",
    "file = pic.read()\n",
    "file_type = imghdr.what(pic.name)\n",
    "file_name = pic.name\n",
    "\n",
    "\n",
    "msg = EmailMessage()\n",
    "\n",
    "msg['To'] = \"xyz@gmail.com\"\n",
    "msg['From'] = send_email\n",
    "msg['Subject'] = \"4 Clicking picture using opencv and then sending the image\"\n",
    "msg.set_content(\"Look , your picture was clicked using your webcam.\")\n",
    "\n",
    "msg.add_attachment(file, maintype =\"image\", subtype = file_type, filename = file_name)\n",
    "\n",
    "server = s.SMTP_SSL(\"smtp.gmail.com\", 465)\n",
    "server.login(send_email, pswrd)\n",
    "print(\"Login successful!!\")\n",
    "\n",
    "server.send_message(msg)\n",
    "print(\"Email has been sent successsfully!!\")\n",
    "\n",
    "server.close()\n"
   ]
  }
 ],
 "metadata": {
  "kernelspec": {
   "display_name": "Python 3",
   "language": "python",
   "name": "python3"
  },
  "language_info": {
   "codemirror_mode": {
    "name": "ipython",
    "version": 3
   },
   "file_extension": ".py",
   "mimetype": "text/x-python",
   "name": "python",
   "nbconvert_exporter": "python",
   "pygments_lexer": "ipython3",
   "version": "3.8.3"
  }
 },
 "nbformat": 4,
 "nbformat_minor": 4
}
