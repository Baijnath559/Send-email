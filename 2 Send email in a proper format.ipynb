{
 "cells": [
  {
   "cell_type": "code",
   "execution_count": null,
   "metadata": {},
   "outputs": [],
   "source": [
    "import smtplib as s\n",
    "from email.message import EmailMessage\n",
    "\n",
    "send_email = \"baijnath.k03022000@gmail.com\"\n",
    "password = input(\"Enter your password : \")\n",
    "\n",
    "msg = EmailMessage()\n",
    "\n",
    "msg[\"Subject\"] = '2 Fight against coronavirus'\n",
    "msg['From'] = send_email\n",
    "msg['To'] = 'baijnath.k3022000@gmail.com'\n",
    "\n",
    "msg.set_content(\"Hey,Baiju lets fight against covid-19 by staying at home.\")\n",
    "\n",
    "server = s.SMTP_SSL(\"smtp.gmail.com\", 465)\n",
    "server.login(send_email,password)\n",
    "print(\"Login Success!!\")\n",
    "\n",
    "\n",
    "server.send_message(msg)\n",
    "print(\"Email has been sent successfully\")\n",
    "\n",
    "server.close()"
   ]
  },
  {
   "cell_type": "code",
   "execution_count": null,
   "metadata": {},
   "outputs": [],
   "source": []
  }
 ],
 "metadata": {
  "kernelspec": {
   "display_name": "Python 3",
   "language": "python",
   "name": "python3"
  },
  "language_info": {
   "codemirror_mode": {
    "name": "ipython",
    "version": 3
   },
   "file_extension": ".py",
   "mimetype": "text/x-python",
   "name": "python",
   "nbconvert_exporter": "python",
   "pygments_lexer": "ipython3",
   "version": "3.8.3"
  }
 },
 "nbformat": 4,
 "nbformat_minor": 4
}
