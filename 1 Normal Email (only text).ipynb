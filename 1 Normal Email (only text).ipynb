{
 "cells": [
  {
   "cell_type": "code",
   "execution_count": null,
   "metadata": {},
   "outputs": [],
   "source": [
    "import smtplib\n",
    "sender_email = \"xyz@gmail.com\"\n",
    "rec_email    = [\"abc@gmail.com\"]   #can provide multiple emails\n",
    "password     = input(\"Please enter your password: \")\n",
    "msg = \"1 Hey, this msg was sent using python!\" \n",
    "\n",
    "server = smtplib.SMTP(\"smtp.gmail.com\", 587)\n",
    "server.starttls()\n",
    "\n",
    "server.login(sender_email, password)\n",
    "print(\"Login success\")\n",
    "\n",
    "server.sendmail(sender_email , rec_email, msg)\n",
    "print(\"Email has been sent to \",rec_email)\n",
    "\n",
    "server.close()"
   ]
  }
 ],
 "metadata": {
  "kernelspec": {
   "display_name": "Python 3",
   "language": "python",
   "name": "python3"
  },
  "language_info": {
   "codemirror_mode": {
    "name": "ipython",
    "version": 3
   },
   "file_extension": ".py",
   "mimetype": "text/x-python",
   "name": "python",
   "nbconvert_exporter": "python",
   "pygments_lexer": "ipython3",
   "version": "3.8.3"
  }
 },
 "nbformat": 4,
 "nbformat_minor": 4
}
