{
 "cells": [
  {
   "cell_type": "code",
   "execution_count": 9,
   "metadata": {},
   "outputs": [
    {
     "name": "stdout",
     "output_type": "stream",
     "text": [
      "Please enter your password: 1@2@3@4@5@6@\n",
      "Login success\n",
      "Email has been sent to  ['baijnath.k3022000@gmail.com']\n"
     ]
    }
   ],
   "source": [
    "import smtplib\n",
    "sender_email = \"baijnath.k03022000@gmail.com\"\n",
    "rec_email    = [\"baijnath.k3022000@gmail.com\"]   #can provide multiple emails\n",
    "password     = input(\"Please enter your password: \")\n",
    "msg = \"1 Hey, this msg was sent using python!\" \n",
    "\n",
    "server = smtplib.SMTP(\"smtp.gmail.com\", 587)\n",
    "server.starttls()\n",
    "\n",
    "server.login(sender_email, password)\n",
    "print(\"Login success\")\n",
    "\n",
    "server.sendmail(sender_email , rec_email, msg)\n",
    "print(\"Email has been sent to \",rec_email)\n",
    "\n",
    "server.close()"
   ]
  }
 ],
 "metadata": {
  "kernelspec": {
   "display_name": "Python 3",
   "language": "python",
   "name": "python3"
  },
  "language_info": {
   "codemirror_mode": {
    "name": "ipython",
    "version": 3
   },
   "file_extension": ".py",
   "mimetype": "text/x-python",
   "name": "python",
   "nbconvert_exporter": "python",
   "pygments_lexer": "ipython3",
   "version": "3.8.3"
  }
 },
 "nbformat": 4,
 "nbformat_minor": 4
}
