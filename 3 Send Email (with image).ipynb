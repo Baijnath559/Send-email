{
 "cells": [
  {
   "cell_type": "code",
   "execution_count": null,
   "metadata": {},
   "outputs": [],
   "source": [
    "import smtplib as s\n",
    "import imghdr\n",
    "from email.message import EmailMessage\n",
    "\n",
    "server = s.SMTP_SSL('smtp.gmail.com',465)\n",
    "\n",
    "send_email = 'abc@gmail.com'\n",
    "pswrd = input(\"Enter your password: \")\n",
    "\n",
    "photo = open(\"me.jpg\",'rb')\n",
    "file = photo.read()\n",
    "file_type = imghdr.what(photo.name)      #it will tell that img format is jpeg\n",
    "file_name = photo.name                  #it will assign file name as \"me\"\n",
    "\n",
    "msg = EmailMessage()\n",
    "\n",
    "msg.set_content(\"Hey, baiju see your image..\")\n",
    "\n",
    "msg.add_attachment(file, maintype = \"image\", subtype = file_type, filename = file_name)\n",
    "\n",
    "msg['To'] = \"xyz@gmail.com\"\n",
    "msg['From'] = send_email\n",
    "msg['Subject'] = \"3 Look at your image\"\n",
    "\n",
    "\n",
    "server.login(send_email, pswrd)\n",
    "print(\"Login Successful!!\")\n",
    "\n",
    "server.send_message(msg)\n",
    "print(\"Email has been sent successfully!!\")\n",
    "\n",
    "server.close()"
   ]
  },
  {
   "cell_type": "code",
   "execution_count": null,
   "metadata": {},
   "outputs": [],
   "source": []
  }
 ],
 "metadata": {
  "kernelspec": {
   "display_name": "Python 3",
   "language": "python",
   "name": "python3"
  },
  "language_info": {
   "codemirror_mode": {
    "name": "ipython",
    "version": 3
   },
   "file_extension": ".py",
   "mimetype": "text/x-python",
   "name": "python",
   "nbconvert_exporter": "python",
   "pygments_lexer": "ipython3",
   "version": "3.8.3"
  }
 },
 "nbformat": 4,
 "nbformat_minor": 4
}
